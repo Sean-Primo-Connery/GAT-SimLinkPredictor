{
 "cells": [
  {
   "cell_type": "code",
   "id": "initial_id",
   "metadata": {
    "collapsed": true
   },
   "source": [
    "import torch\n",
    "import torch.nn as nn\n",
    "import torch_geometric.nn as tgnn\n",
    "from typing import Tuple\n",
    "from datasets import Dataset\n",
    "import torch.utils.data as data\n",
    "from tqdm import tqdm"
   ],
   "outputs": [],
   "execution_count": null
  },
  {
   "cell_type": "code",
   "source": [
    "lr = 0.005\n",
    "weight_decay = 0.001\n",
    "batch_size = 2048\n",
    "epochs = 40"
   ],
   "metadata": {
    "collapsed": false
   },
   "id": "8de0c66a80419c35",
   "outputs": [],
   "execution_count": null
  },
  {
   "cell_type": "markdown",
   "source": [
    "## 0. load data\n",
    "### 0.1 raw data"
   ],
   "metadata": {
    "collapsed": false
   },
   "id": "5d734cbbf526d121"
  },
  {
   "metadata": {
    "collapsed": false
   },
   "cell_type": "code",
   "source": "dataset = Dataset.load_from_disk('/Users/xiaoen/Documents/科研/论文/链接预测/TOD-Code/data/traindataset')",
   "id": "a9f494708d4bac35",
   "outputs": [],
   "execution_count": null
  },
  {
   "metadata": {},
   "cell_type": "code",
   "source": [
    "train_dataset = dataset['data'][0]\n",
    "test_dataset = dataset['data'][1]"
   ],
   "id": "3ea8588b214960d4",
   "outputs": [],
   "execution_count": null
  },
  {
   "cell_type": "markdown",
   "source": "### 0.2 data features",
   "metadata": {
    "collapsed": false
   },
   "id": "8280641646ac4dc"
  },
  {
   "cell_type": "code",
   "source": [
    "train_x = train_dataset['x_feature']\n",
    "train_edge_index = train_dataset['edge_index']\n",
    "train_label_edge_index = train_dataset['label_edge']\n",
    "train_edge_feature = train_dataset['label_edge_feature']\n",
    "train_label = train_dataset['label']"
   ],
   "metadata": {
    "collapsed": false
   },
   "id": "e40081894eec4ec1",
   "outputs": [],
   "execution_count": null
  },
  {
   "cell_type": "code",
   "source": [
    "test_x = test_dataset['x_feature']\n",
    "test_edge_index = test_dataset['edge_index']\n",
    "test_label_edge_index = test_dataset['label_edge']\n",
    "test_edge_feature = test_dataset['label_edge_feature']\n",
    "test_label = test_dataset['label']"
   ],
   "metadata": {
    "collapsed": false
   },
   "id": "5f3c8d1ede90679d",
   "outputs": [],
   "execution_count": null
  },
  {
   "cell_type": "markdown",
   "source": [
    "## 1. defined\n",
    "### 1.1 GAT model"
   ],
   "metadata": {
    "collapsed": false
   },
   "id": "af1544ca0074a509"
  },
  {
   "cell_type": "code",
   "source": [
    "class GAT(nn.Module):\n",
    "    def __init__(\n",
    "            self,\n",
    "            dim_in: int,\n",
    "            hidden_size: int,\n",
    "            output_size: int,\n",
    "            dropout: float = 0.1\n",
    "    ):\n",
    "        super().__init__()\n",
    "        self.dim_in = dim_in\n",
    "        self.dropout = dropout\n",
    "\n",
    "        self.conv1 = tgnn.GATv2Conv(\n",
    "            in_channels=dim_in,\n",
    "            out_channels=hidden_size,\n",
    "            heads=2,\n",
    "            dropout=self.dropout,\n",
    "            residual=True\n",
    "        )\n",
    "\n",
    "        self.conv2 = tgnn.GATv2Conv(\n",
    "            in_channels=hidden_size * 2,\n",
    "            out_channels=output_size,\n",
    "            heads=1,\n",
    "            dropout=self.dropout,\n",
    "            residual=True\n",
    "        )\n",
    "\n",
    "        self.dim_out = output_size\n",
    "\n",
    "    def forward(self, x: torch.Tensor, edge_index: torch.Tensor) -> torch.Tensor:\n",
    "        h = self.conv1(x, edge_index)\n",
    "        h = nn.functional.dropout(h, p=self.dropout, training=self.training)\n",
    "\n",
    "        h = self.conv2(h, edge_index)\n",
    "        h = nn.functional.dropout(h, p=self.dropout, training=self.training)\n",
    "\n",
    "        return h"
   ],
   "metadata": {
    "collapsed": false
   },
   "id": "b568c8a9fc2d2757",
   "outputs": [],
   "execution_count": null
  },
  {
   "cell_type": "markdown",
   "source": [
    "### 1.2 Link Prediction model"
   ],
   "metadata": {
    "collapsed": false
   },
   "id": "faccd4391ffc546"
  },
  {
   "cell_type": "code",
   "source": [
    "class LinkPredModel(nn.Module):\n",
    "    def __init__(\n",
    "            self,\n",
    "            dim_in: int,\n",
    "            gnn_hidden_size: int,\n",
    "            gnn_output_size: int,\n",
    "            hidden_dims: Tuple[int, ...] = (16, 4),\n",
    "            dropout: float = 0.1,\n",
    "    ):\n",
    "        super().__init__()\n",
    "\n",
    "        self.gnn = GAT(\n",
    "            dim_in=dim_in,\n",
    "            hidden_size=gnn_hidden_size,\n",
    "            output_size=gnn_output_size,\n",
    "            dropout=dropout\n",
    "        )\n",
    "\n",
    "        self.input_dim = self.gnn.dim_out + 16\n",
    "        self.dropout = dropout\n",
    "\n",
    "        # MLP 层\n",
    "        self.in_layer = nn.Linear(self.input_dim, hidden_dims[0])\n",
    "        self.hidden_layer = nn.Linear(hidden_dims[0], hidden_dims[1])\n",
    "        self.out_layer = nn.Linear(hidden_dims[1], 1)\n",
    "\n",
    "        # 激活函数和批归一化\n",
    "        self.lrelu = nn.LeakyReLU(0.01)\n",
    "        self.bn0 = nn.BatchNorm1d(self.input_dim)\n",
    "        self.bn1 = nn.BatchNorm1d(hidden_dims[0])\n",
    "        self.bn2 = nn.BatchNorm1d(hidden_dims[1])\n",
    "\n",
    "    def forward(self, x: torch.Tensor, edge_index: torch.Tensor, label_edge_index: torch.Tensor, label_edge_feature: torch.Tensor) -> torch.Tensor:\n",
    "        h = self.gnn(x, edge_index)\n",
    "\n",
    "        h_src = h[label_edge_index[0, :]]\n",
    "        h_dst = h[label_edge_index[1, :]]\n",
    "\n",
    "        src_dst_mult = h_src * h_dst\n",
    "\n",
    "        all_features = torch.cat([src_dst_mult, label_edge_feature], dim=1)\n",
    "\n",
    "        _out = self.bn0(all_features)\n",
    "\n",
    "        _out = self.in_layer(_out)\n",
    "        _out = self.bn1(_out)\n",
    "        _out = self.lrelu(_out)\n",
    "        _out = nn.functional.dropout(_out, p=self.dropout, training=self.training)\n",
    "\n",
    "        _out = self.hidden_layer(_out)\n",
    "        _out = self.bn2(_out)\n",
    "        _out = self.lrelu(_out)\n",
    "        _out = nn.functional.dropout(_out, p=self.dropout, training=self.training)\n",
    "\n",
    "        _out = self.out_layer(_out)\n",
    "\n",
    "        return _out"
   ],
   "metadata": {
    "collapsed": false
   },
   "id": "52c18cf1e25ddff2",
   "outputs": [],
   "execution_count": null
  },
  {
   "cell_type": "markdown",
   "source": [
    "## 2. preparation component\n",
    "### 2.0 GPU"
   ],
   "metadata": {
    "collapsed": false
   },
   "id": "a52bdbd3de67e42b"
  },
  {
   "cell_type": "code",
   "source": "device = torch.device(\"mps\")",
   "metadata": {
    "collapsed": false
   },
   "id": "827436b691aec337",
   "outputs": [],
   "execution_count": null
  },
  {
   "cell_type": "markdown",
   "source": "### 2.1 model",
   "metadata": {
    "collapsed": false
   },
   "id": "5781d42f75a4ebfa"
  },
  {
   "cell_type": "code",
   "source": [
    "LP = LinkPredModel(\n",
    "    dim_in=100,\n",
    "    gnn_hidden_size=16,\n",
    "    gnn_output_size=10,\n",
    "    dropout=0.1\n",
    ").to(device)"
   ],
   "metadata": {
    "collapsed": false
   },
   "id": "4ba70b818b389ecf",
   "outputs": [],
   "execution_count": null
  },
  {
   "cell_type": "markdown",
   "source": "### 2.2 loss",
   "metadata": {
    "collapsed": false
   },
   "id": "2c395a75eac79256"
  },
  {
   "cell_type": "code",
   "source": [
    "loss_fn = nn.BCEWithLogitsLoss()"
   ],
   "metadata": {
    "collapsed": false
   },
   "id": "13e23de5fe7e44ce",
   "outputs": [],
   "execution_count": null
  },
  {
   "cell_type": "markdown",
   "source": "### 2.3 loader",
   "metadata": {
    "collapsed": false
   },
   "id": "521ac068c506152"
  },
  {
   "cell_type": "code",
   "source": [
    "class GraphDataset(data.Dataset):\n",
    "    def __init__(self, _label_edge_index, _label_edge_feature, _label):\n",
    "        self.label_edge_index = torch.tensor(_label_edge_index, dtype=torch.int64).T\n",
    "        self.label_edge_feature = torch.tensor(_label_edge_feature, dtype=torch.float)\n",
    "        self.label = torch.tensor(_label, dtype=torch.float)\n",
    "\n",
    "    def __len__(self):\n",
    "        return len(self.label_edge_index[0])\n",
    "    \n",
    "    def __getitem__(self, idx):\n",
    "        return self.label_edge_index[:, idx], self.label_edge_feature[idx], self.label[idx]"
   ],
   "metadata": {
    "collapsed": false
   },
   "id": "b828ea51371bce22",
   "outputs": [],
   "execution_count": null
  },
  {
   "cell_type": "code",
   "source": [
    "def get_loader(_x, _edge_index, _label_edge_index, _label_edge_feature, _label,_batch_size=batch_size):\n",
    "    _x = torch.tensor(_x, dtype=torch.float)\n",
    "    _edge_index = torch.tensor(_edge_index, dtype=torch.int64).T\n",
    "    _dataset = GraphDataset(_label_edge_index, _label_edge_feature, _label)\n",
    "    graph_loader = data.DataLoader(_dataset, batch_size=_batch_size, shuffle=True)\n",
    "    return _x, _edge_index, graph_loader"
   ],
   "metadata": {
    "collapsed": false
   },
   "id": "4a34bd6006a8dee0",
   "outputs": [],
   "execution_count": null
  },
  {
   "cell_type": "markdown",
   "source": "## 3. train",
   "metadata": {
    "collapsed": false
   },
   "id": "f76a2edc2f61cf5d"
  },
  {
   "cell_type": "code",
   "source": [
    "LP.train()"
   ],
   "metadata": {
    "collapsed": false
   },
   "id": "21a672c178d9bec1",
   "outputs": [],
   "execution_count": null
  },
  {
   "cell_type": "code",
   "source": "d_x, d_edge_index, loader = get_loader(train_x, train_edge_index, train_label_edge_index, train_edge_feature, train_label)",
   "metadata": {
    "collapsed": false
   },
   "id": "1ac058cc2ac20fba",
   "outputs": [],
   "execution_count": null
  },
  {
   "cell_type": "code",
   "source": [
    "for epoch in range(epochs):\n",
    "    train_bar = tqdm(loader)\n",
    "    running_loss = []\n",
    "    if epoch != 0:\n",
    "        if epoch % 10 == 0:\n",
    "            lr = lr * 0.5\n",
    "            weight_decay = weight_decay * 0.5\n",
    "    optimizer = torch.optim.Adam(LP.parameters(), lr=lr, weight_decay=weight_decay)\n",
    "    for d_label_edge_index, d_label_edge_feature, d_label in train_bar:\n",
    "        optimizer.zero_grad()\n",
    "        out = LP(d_x.to(device), d_edge_index.to(device), d_label_edge_index.t().to(device), d_label_edge_feature.to(device))\n",
    "        loss = loss_fn(out.squeeze(), d_label.float().to(device))\n",
    "        running_loss.append(loss.item())\n",
    "        loss.backward()\n",
    "        optimizer.step()\n",
    "        train_bar.set_description(f'Epoch {epoch}, loss: {sum(running_loss)/len(running_loss):.4f}')"
   ],
   "metadata": {
    "collapsed": false
   },
   "id": "3316bed726a3e874",
   "outputs": [],
   "execution_count": null
  }
 ],
 "metadata": {
  "kernelspec": {
   "display_name": "Python 3",
   "language": "python",
   "name": "python3"
  },
  "language_info": {
   "codemirror_mode": {
    "name": "ipython",
    "version": 2
   },
   "file_extension": ".py",
   "mimetype": "text/x-python",
   "name": "python",
   "nbconvert_exporter": "python",
   "pygments_lexer": "ipython2",
   "version": "2.7.6"
  }
 },
 "nbformat": 4,
 "nbformat_minor": 5
}
