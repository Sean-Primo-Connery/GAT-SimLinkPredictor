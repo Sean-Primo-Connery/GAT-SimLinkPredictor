{
 "cells": [
  {
   "cell_type": "code",
   "id": "initial_id",
   "metadata": {
    "collapsed": true,
    "ExecuteTime": {
     "end_time": "2025-03-02T09:42:14.121899Z",
     "start_time": "2025-03-02T09:42:13.190543Z"
    }
   },
   "source": [
    "import numpy as np\n",
    "from datasets import Dataset, DatasetDict\n",
    "from itertools import combinations\n",
    "from tqdm import tqdm\n",
    "from fastnode2vec import Graph, Node2Vec\n",
    "from collections import Counter\n",
    "import math\n",
    "import random"
   ],
   "outputs": [],
   "execution_count": 1
  },
  {
   "metadata": {},
   "cell_type": "markdown",
   "source": "## 0. load data",
   "id": "9bd3d16df03eb0d8"
  },
  {
   "metadata": {
    "ExecuteTime": {
     "end_time": "2025-03-02T09:42:14.156748Z",
     "start_time": "2025-03-02T09:42:14.128898Z"
    }
   },
   "cell_type": "code",
   "source": [
    "patent_data = DatasetDict.load_from_disk('/Users/xiaoen/Documents/科研/论文/链接预测/TOD-Code/data/AD_dataset')\n",
    "patent_data.keys()"
   ],
   "id": "bf485fc60ef9146b",
   "outputs": [
    {
     "data": {
      "text/plain": [
       "dict_keys(['AD_10', 'AD_11', 'AD_12', 'AD_13', 'AD_14', 'AD_15', 'AD_16', 'AD_17', 'AD_18', 'AD_19', 'AD_20', 'AD_21', 'AD_22', 'AD_23'])"
      ]
     },
     "execution_count": 2,
     "metadata": {},
     "output_type": "execute_result"
    }
   ],
   "execution_count": 2
  },
  {
   "metadata": {
    "ExecuteTime": {
     "end_time": "2025-03-02T09:42:14.212113Z",
     "start_time": "2025-03-02T09:42:14.210100Z"
    }
   },
   "cell_type": "code",
   "source": "patent_data",
   "id": "d8745b26864c663e",
   "outputs": [
    {
     "data": {
      "text/plain": [
       "DatasetDict({\n",
       "    AD_10: Dataset({\n",
       "        features: ['PN', 'CPC', 'PA', 'PI', 'UPC'],\n",
       "        num_rows: 52\n",
       "    })\n",
       "    AD_11: Dataset({\n",
       "        features: ['PN', 'CPC', 'PA', 'PI', 'UPC'],\n",
       "        num_rows: 70\n",
       "    })\n",
       "    AD_12: Dataset({\n",
       "        features: ['PN', 'CPC', 'PA', 'PI', 'UPC'],\n",
       "        num_rows: 92\n",
       "    })\n",
       "    AD_13: Dataset({\n",
       "        features: ['PN', 'CPC', 'PA', 'PI', 'UPC'],\n",
       "        num_rows: 132\n",
       "    })\n",
       "    AD_14: Dataset({\n",
       "        features: ['PN', 'CPC', 'PA', 'PI', 'UPC'],\n",
       "        num_rows: 256\n",
       "    })\n",
       "    AD_15: Dataset({\n",
       "        features: ['PN', 'CPC', 'PA', 'PI', 'UPC'],\n",
       "        num_rows: 460\n",
       "    })\n",
       "    AD_16: Dataset({\n",
       "        features: ['PN', 'CPC', 'PA', 'PI', 'UPC'],\n",
       "        num_rows: 1032\n",
       "    })\n",
       "    AD_17: Dataset({\n",
       "        features: ['PN', 'CPC', 'PA', 'PI', 'UPC'],\n",
       "        num_rows: 2012\n",
       "    })\n",
       "    AD_18: Dataset({\n",
       "        features: ['PN', 'CPC', 'PA', 'PI', 'UPC'],\n",
       "        num_rows: 2911\n",
       "    })\n",
       "    AD_19: Dataset({\n",
       "        features: ['PN', 'CPC', 'PA', 'PI', 'UPC'],\n",
       "        num_rows: 3511\n",
       "    })\n",
       "    AD_20: Dataset({\n",
       "        features: ['PN', 'CPC', 'PA', 'PI', 'UPC'],\n",
       "        num_rows: 4094\n",
       "    })\n",
       "    AD_21: Dataset({\n",
       "        features: ['PN', 'CPC', 'PA', 'PI', 'UPC'],\n",
       "        num_rows: 4693\n",
       "    })\n",
       "    AD_22: Dataset({\n",
       "        features: ['PN', 'CPC', 'PA', 'PI', 'UPC'],\n",
       "        num_rows: 4591\n",
       "    })\n",
       "    AD_23: Dataset({\n",
       "        features: ['PN', 'CPC', 'PA', 'PI', 'UPC'],\n",
       "        num_rows: 1768\n",
       "    })\n",
       "})"
      ]
     },
     "execution_count": 3,
     "metadata": {},
     "output_type": "execute_result"
    }
   ],
   "execution_count": 3
  },
  {
   "metadata": {},
   "cell_type": "markdown",
   "source": "## 1. CPC2ID",
   "id": "f811062a049fb5"
  },
  {
   "metadata": {
    "ExecuteTime": {
     "end_time": "2025-03-02T09:42:14.220196Z",
     "start_time": "2025-03-02T09:42:14.218941Z"
    }
   },
   "cell_type": "code",
   "source": "id_data = list(patent_data.keys())[4:11]",
   "id": "1c199724590627d6",
   "outputs": [],
   "execution_count": 4
  },
  {
   "metadata": {
    "ExecuteTime": {
     "end_time": "2025-03-02T09:42:14.624163Z",
     "start_time": "2025-03-02T09:42:14.233074Z"
    }
   },
   "cell_type": "code",
   "source": [
    "cpc_list = []\n",
    "for file in id_data:\n",
    "    for i in range(len(patent_data[file])):\n",
    "        l = patent_data[file][i]['CPC']\n",
    "        cpc_list.extend(l)\n",
    "cpc_set = list(set(cpc_list))"
   ],
   "id": "2c8cdb1f0fb70892",
   "outputs": [],
   "execution_count": 5
  },
  {
   "metadata": {
    "ExecuteTime": {
     "end_time": "2025-03-02T09:42:14.629475Z",
     "start_time": "2025-03-02T09:42:14.626695Z"
    }
   },
   "cell_type": "code",
   "source": "cpc_id = [{'CPC':cpc, 'id':id_} for id_,cpc in enumerate(cpc_set)]",
   "id": "75bedff4f112524f",
   "outputs": [],
   "execution_count": 6
  },
  {
   "metadata": {
    "ExecuteTime": {
     "end_time": "2025-03-02T09:42:14.651101Z",
     "start_time": "2025-03-02T09:42:14.636126Z"
    }
   },
   "cell_type": "code",
   "source": [
    "cpc_id = Dataset.from_list(cpc_id)\n",
    "cpc_id.save_to_disk('/Users/xiaoen/Documents/科研/论文/链接预测/TOD-Code/data/CPC2ID')"
   ],
   "id": "ed6cfec3166dfd03",
   "outputs": [
    {
     "data": {
      "text/plain": [
       "Saving the dataset (0/1 shards):   0%|          | 0/14670 [00:00<?, ? examples/s]"
      ],
      "application/vnd.jupyter.widget-view+json": {
       "version_major": 2,
       "version_minor": 0,
       "model_id": "cdb3839eb3014849b2602bf7d6fac351"
      }
     },
     "metadata": {},
     "output_type": "display_data"
    }
   ],
   "execution_count": 7
  },
  {
   "metadata": {
    "ExecuteTime": {
     "end_time": "2025-03-02T09:42:14.667601Z",
     "start_time": "2025-03-02T09:42:14.656183Z"
    }
   },
   "cell_type": "code",
   "source": [
    "cpc_id = Dataset.load_from_disk('../data/CPC2ID')\n",
    "cpc_id = cpc_id.to_list()\n",
    "cpc_id = {c['CPC']:c['id'] for c in cpc_id}\n",
    "id_cpc = {c[1]:c[0] for c in cpc_id.items()}"
   ],
   "id": "6f905c6a53645794",
   "outputs": [],
   "execution_count": 8
  },
  {
   "metadata": {},
   "cell_type": "markdown",
   "source": [
    "## 2 CPC technical characteristics learning\n",
    "### 2.0 network data"
   ],
   "id": "df8683c0ed6b8cf6"
  },
  {
   "metadata": {
    "ExecuteTime": {
     "end_time": "2025-03-02T09:42:14.675500Z",
     "start_time": "2025-03-02T09:42:14.674161Z"
    }
   },
   "cell_type": "code",
   "source": "net_data = list(patent_data.keys())[4:11]",
   "id": "1e96d6e351563a7d",
   "outputs": [],
   "execution_count": 9
  },
  {
   "metadata": {
    "ExecuteTime": {
     "end_time": "2025-03-02T09:42:15.050175Z",
     "start_time": "2025-03-02T09:42:14.680618Z"
    }
   },
   "cell_type": "code",
   "source": [
    "cpc_data = []\n",
    "for file in net_data:\n",
    "    for i in range(len(patent_data[file])):\n",
    "        l = patent_data[file][i]['CPC']\n",
    "        e_l = []\n",
    "        for cpc in l:\n",
    "            if cpc in cpc_id:\n",
    "                e_l.append(cpc)\n",
    "        cpc_data.append(e_l)"
   ],
   "id": "703ec90667e1682a",
   "outputs": [],
   "execution_count": 10
  },
  {
   "metadata": {},
   "cell_type": "markdown",
   "source": "### 2.1 build a network",
   "id": "ed20c7f0ac3f1ba1"
  },
  {
   "metadata": {
    "ExecuteTime": {
     "end_time": "2025-03-02T09:42:15.243765Z",
     "start_time": "2025-03-02T09:42:15.056398Z"
    }
   },
   "cell_type": "code",
   "source": [
    "coo_raw_list = []\n",
    "for cpc in tqdm(cpc_data):\n",
    "    coo_raw_list.extend(list(combinations(cpc,2))+[(i[-1],i[0]) for i in list(combinations(cpc,2))])"
   ],
   "id": "24e26ef99d62bb1d",
   "outputs": [
    {
     "name": "stderr",
     "output_type": "stream",
     "text": [
      "100%|██████████| 14276/14276 [00:00<00:00, 77296.69it/s]\n"
     ]
    }
   ],
   "execution_count": 11
  },
  {
   "metadata": {
    "ExecuteTime": {
     "end_time": "2025-03-02T09:42:15.251396Z",
     "start_time": "2025-03-02T09:42:15.249556Z"
    }
   },
   "cell_type": "code",
   "source": "len(coo_raw_list)",
   "id": "6c3e069238cbfcfa",
   "outputs": [
    {
     "data": {
      "text/plain": [
       "3244294"
      ]
     },
     "execution_count": 12,
     "metadata": {},
     "output_type": "execute_result"
    }
   ],
   "execution_count": 12
  },
  {
   "metadata": {
    "ExecuteTime": {
     "end_time": "2025-03-02T09:42:15.664922Z",
     "start_time": "2025-03-02T09:42:15.266622Z"
    }
   },
   "cell_type": "code",
   "source": "cpc_coo_counter = Counter(coo_raw_list)",
   "id": "ff861971f13c1297",
   "outputs": [],
   "execution_count": 13
  },
  {
   "metadata": {
    "ExecuteTime": {
     "end_time": "2025-03-02T09:42:16.009907Z",
     "start_time": "2025-03-02T09:42:16.008066Z"
    }
   },
   "cell_type": "code",
   "source": "len(cpc_coo_counter)",
   "id": "2c781b65ca0487b7",
   "outputs": [
    {
     "data": {
      "text/plain": [
       "951876"
      ]
     },
     "execution_count": 14,
     "metadata": {},
     "output_type": "execute_result"
    }
   ],
   "execution_count": 14
  },
  {
   "metadata": {},
   "cell_type": "markdown",
   "source": "### 2.2 DeepWalk Learning Embedding",
   "id": "9953989ec950686c"
  },
  {
   "metadata": {
    "ExecuteTime": {
     "end_time": "2025-03-02T09:42:16.460879Z",
     "start_time": "2025-03-02T09:42:16.349678Z"
    }
   },
   "cell_type": "code",
   "source": "coo_dataset = [(coo[0][0], coo[0][1], coo[1]) for coo in tqdm(cpc_coo_counter.items())]",
   "id": "b943f9b30adcdf94",
   "outputs": [
    {
     "name": "stderr",
     "output_type": "stream",
     "text": [
      "100%|██████████| 951876/951876 [00:00<00:00, 8723993.95it/s]\n"
     ]
    }
   ],
   "execution_count": 15
  },
  {
   "metadata": {
    "ExecuteTime": {
     "end_time": "2025-03-02T09:42:17.321001Z",
     "start_time": "2025-03-02T09:42:16.797788Z"
    }
   },
   "cell_type": "code",
   "source": "cpc_coo_graph = Graph(coo_dataset,directed=True, weighted=True)",
   "id": "289653426cffdf6c",
   "outputs": [
    {
     "data": {
      "text/plain": [
       "Reading graph:   0%|          | 0/951876 [00:00<?, ?it/s]"
      ],
      "application/vnd.jupyter.widget-view+json": {
       "version_major": 2,
       "version_minor": 0,
       "model_id": "fb0efcf5178342b38ed900ef1aaf1b78"
      }
     },
     "metadata": {},
     "output_type": "display_data"
    }
   ],
   "execution_count": 16
  },
  {
   "metadata": {
    "ExecuteTime": {
     "end_time": "2025-03-02T09:42:17.725042Z",
     "start_time": "2025-03-02T09:42:17.660425Z"
    }
   },
   "cell_type": "code",
   "source": "DeepWalk=Node2Vec(cpc_coo_graph, dim=64, walk_length=50, window=10, p=1, q=1, batch_walks=256, workers=12)",
   "id": "ff20b456604723a",
   "outputs": [],
   "execution_count": 17
  },
  {
   "metadata": {
    "ExecuteTime": {
     "end_time": "2025-03-02T09:42:27.295230Z",
     "start_time": "2025-03-02T09:42:18.078040Z"
    }
   },
   "cell_type": "code",
   "source": "DeepWalk.train(epochs=20)",
   "id": "47b9c586f94f982",
   "outputs": [
    {
     "data": {
      "text/plain": [
       "Epochs:   0%|          | 0/20 [00:00<?, ?it/s]"
      ],
      "application/vnd.jupyter.widget-view+json": {
       "version_major": 2,
       "version_minor": 0,
       "model_id": "f4d5f0a112c04d7191dd4c3b2708a5cc"
      }
     },
     "metadata": {},
     "output_type": "display_data"
    }
   ],
   "execution_count": 18
  },
  {
   "metadata": {
    "ExecuteTime": {
     "end_time": "2025-03-02T09:42:27.668622Z",
     "start_time": "2025-03-02T09:42:27.659680Z"
    }
   },
   "cell_type": "code",
   "source": [
    "cpc_embedding = {}\n",
    "for c in tqdm(cpc_id):\n",
    "    cpc_embedding[c] = DeepWalk.wv[c]"
   ],
   "id": "9ab9af57f2a46710",
   "outputs": [
    {
     "name": "stderr",
     "output_type": "stream",
     "text": [
      "100%|██████████| 14670/14670 [00:00<00:00, 2156012.46it/s]\n"
     ]
    }
   ],
   "execution_count": 19
  },
  {
   "metadata": {},
   "cell_type": "markdown",
   "source": [
    "## 3 statistical characteristics\n",
    "### 3.0 Data set preparation"
   ],
   "id": "1d827eed8675c127"
  },
  {
   "metadata": {
    "ExecuteTime": {
     "end_time": "2025-03-02T09:42:28.046026Z",
     "start_time": "2025-03-02T09:42:28.044256Z"
    }
   },
   "cell_type": "code",
   "source": [
    "def make_cpc_list_data(data):\n",
    "    cpc_l = []\n",
    "    for f in data:\n",
    "        for z in range(len(patent_data[f])):\n",
    "            c_l = patent_data[f][z]\n",
    "            c_l['CPC'] = list(set(c_l['CPC'])-(set(c_l['CPC'])-set(cpc_set)))\n",
    "            cpc_l.append(c_l)\n",
    "    return cpc_l"
   ],
   "id": "ab79957f4f0c039c",
   "outputs": [],
   "execution_count": 20
  },
  {
   "metadata": {
    "ExecuteTime": {
     "end_time": "2025-03-02T09:42:49.145602Z",
     "start_time": "2025-03-02T09:42:28.414232Z"
    }
   },
   "cell_type": "code",
   "source": [
    "train_net = make_cpc_list_data(list(patent_data.keys())[4:11])\n",
    "test_net = make_cpc_list_data(list(patent_data.keys())[4:12])\n",
    "val_net = make_cpc_list_data(list(patent_data.keys())[4:13])\n",
    "train_net_last = make_cpc_list_data(list(patent_data.keys())[8:11])\n",
    "test_net_last = make_cpc_list_data(list(patent_data.keys())[9:12])\n",
    "val_net_last = make_cpc_list_data(list(patent_data.keys())[10:13])\n",
    "train_net_label = make_cpc_list_data(list(patent_data.keys())[11:12])\n",
    "test_net_label = make_cpc_list_data(list(patent_data.keys())[12:13])"
   ],
   "id": "1f8f04894d0bbcd0",
   "outputs": [],
   "execution_count": 21
  },
  {
   "metadata": {},
   "cell_type": "markdown",
   "source": "### 3.1 CPC统计特征",
   "id": "5b5db83cc2526171"
  },
  {
   "metadata": {
    "ExecuteTime": {
     "end_time": "2025-03-02T09:42:49.490496Z",
     "start_time": "2025-03-02T09:42:49.487716Z"
    }
   },
   "cell_type": "code",
   "source": [
    "def stat_feature(cpc_all, cpc_last):\n",
    "    cpc_feature = {}\n",
    "    for c in tqdm(cpc_id):\n",
    "        cpc_feature[c] = {\n",
    "                'last_patent':0,\n",
    "                'all_patent':0,\n",
    "                'grow_rate':0,\n",
    "                'all_neighbor':[],\n",
    "                'last_neighbor':[],\n",
    "                'all_neighbor_num':0,\n",
    "                'last_neighbor_num':0,\n",
    "                'neighbor_grow_rate':0,\n",
    "                'technology_emb':np.zeros(64),\n",
    "                'assignee':[],\n",
    "                'inventor':[],\n",
    "                'company':[],\n",
    "            }\n",
    "\n",
    "        for cl in cpc_all:\n",
    "            if c in cl['CPC']:\n",
    "                cpc_feature[c]['all_patent'] += 1\n",
    "                neighbor = []\n",
    "                for cpc in cl['CPC']:\n",
    "                    if cpc != c:\n",
    "                        neighbor.append(cpc)\n",
    "                cpc_feature[c]['all_neighbor'].extend(list(set(neighbor)))\n",
    "                cpc_feature[c]['assignee'].extend(cl['PA'])\n",
    "                cpc_feature[c]['inventor'].extend(cl['PI'])\n",
    "                cpc_feature[c]['company'].extend(cl['UPC'])\n",
    "        for cl in cpc_last:\n",
    "            if c in cl['CPC']:\n",
    "                cpc_feature[c]['last_patent'] += 1\n",
    "                neighbor = []\n",
    "                for cpc in cl['CPC']:\n",
    "                    if cpc != c:\n",
    "                        neighbor.append(cpc)\n",
    "                cpc_feature[c]['last_neighbor'].extend(list(set(neighbor)))\n",
    "        cpc_feature[c]['grow_rate'] = cpc_feature[c]['last_patent']/cpc_feature[c]['all_patent']\n",
    "        cpc_feature[c]['all_neighbor'] = list(set(cpc_feature[c]['all_neighbor']))\n",
    "        cpc_feature[c]['last_neighbor'] = list(set(cpc_feature[c]['last_neighbor']))\n",
    "        cpc_feature[c]['all_neighbor_num'] = len(cpc_feature[c]['all_neighbor'])\n",
    "        cpc_feature[c]['last_neighbor_num'] = len(cpc_feature[c]['last_neighbor'])\n",
    "        cpc_feature[c]['neighbor_grow_rate'] = cpc_feature[c]['last_neighbor_num']/cpc_feature[c]['all_neighbor_num']\n",
    "        cpc_feature[c]['assignee'] = list(set(cpc_feature[c]['assignee']))\n",
    "        cpc_feature[c]['inventor'] = list(set(cpc_feature[c]['inventor']))\n",
    "        cpc_feature[c]['company'] = list(set(cpc_feature[c]['company']))\n",
    "        cpc_feature[c]['technology_emb'] = cpc_embedding[c]\n",
    "    return cpc_feature"
   ],
   "id": "742ded7bde7143ba",
   "outputs": [],
   "execution_count": 22
  },
  {
   "metadata": {
    "ExecuteTime": {
     "end_time": "2025-03-02T09:43:24.643593Z",
     "start_time": "2025-03-02T09:42:49.828981Z"
    }
   },
   "cell_type": "code",
   "source": "train_feature = stat_feature(train_net, train_net_last)",
   "id": "8e6b3d4735641807",
   "outputs": [
    {
     "name": "stderr",
     "output_type": "stream",
     "text": [
      "100%|██████████| 14670/14670 [00:34<00:00, 421.40it/s]\n"
     ]
    }
   ],
   "execution_count": 23
  },
  {
   "metadata": {
    "ExecuteTime": {
     "end_time": "2025-03-02T09:44:02.859349Z",
     "start_time": "2025-03-02T09:43:24.990450Z"
    }
   },
   "cell_type": "code",
   "source": "test_feature = stat_feature(test_net, test_net_last)",
   "id": "f45144b03a95563f",
   "outputs": [
    {
     "name": "stderr",
     "output_type": "stream",
     "text": [
      "100%|██████████| 14670/14670 [00:37<00:00, 387.41it/s]\n"
     ]
    }
   ],
   "execution_count": 24
  },
  {
   "metadata": {
    "ExecuteTime": {
     "end_time": "2025-03-02T09:44:47.081648Z",
     "start_time": "2025-03-02T09:44:03.228646Z"
    }
   },
   "cell_type": "code",
   "source": "val_feature = stat_feature(val_net, val_net_last)",
   "id": "f683b55477b58d7c",
   "outputs": [
    {
     "name": "stderr",
     "output_type": "stream",
     "text": [
      "100%|██████████| 14670/14670 [00:43<00:00, 334.54it/s]\n"
     ]
    }
   ],
   "execution_count": 25
  },
  {
   "metadata": {},
   "cell_type": "markdown",
   "source": "### 3.2 CPC feature construction",
   "id": "f9131aaa05f554e4"
  },
  {
   "metadata": {
    "ExecuteTime": {
     "end_time": "2025-03-02T09:44:47.450243Z",
     "start_time": "2025-03-02T09:44:47.448443Z"
    }
   },
   "cell_type": "code",
   "source": [
    "def make_cpc_emb(cpc_feature):\n",
    "    cpc_emb = {}\n",
    "    for c in tqdm(cpc_id):\n",
    "        stand_last_patent = cpc_feature[c]['last_patent']\n",
    "        stand_all_patent = cpc_feature[c]['all_patent']\n",
    "        stand_grow_rate = cpc_feature[c]['grow_rate']\n",
    "        stand_all_neighbor_num = cpc_feature[c]['all_neighbor_num']\n",
    "        stand_last_neighbor_num = cpc_feature[c]['last_neighbor_num']\n",
    "        stand_neighbor_growth_rate = cpc_feature[c]['neighbor_grow_rate']\n",
    "        stat_emb = np.array([stand_last_patent, stand_all_patent, stand_grow_rate, stand_all_neighbor_num, stand_last_neighbor_num, stand_neighbor_growth_rate] * 6)\n",
    "        tech_emb = cpc_feature[c]['technology_emb']\n",
    "        cpc_emb[c]=np.concatenate([stat_emb, tech_emb])\n",
    "    return cpc_emb"
   ],
   "id": "73bed0302cae5d49",
   "outputs": [],
   "execution_count": 26
  },
  {
   "metadata": {
    "ExecuteTime": {
     "end_time": "2025-03-02T09:44:47.864902Z",
     "start_time": "2025-03-02T09:44:47.833926Z"
    }
   },
   "cell_type": "code",
   "source": "train_emb = make_cpc_emb(train_feature)",
   "id": "ae028b069ec1bbd7",
   "outputs": [
    {
     "name": "stderr",
     "output_type": "stream",
     "text": [
      "100%|██████████| 14670/14670 [00:00<00:00, 512058.12it/s]\n"
     ]
    }
   ],
   "execution_count": 27
  },
  {
   "metadata": {
    "ExecuteTime": {
     "end_time": "2025-03-02T09:44:48.273016Z",
     "start_time": "2025-03-02T09:44:48.240844Z"
    }
   },
   "cell_type": "code",
   "source": "test_emb = make_cpc_emb(test_feature)",
   "id": "5d586dd2da0b5d8a",
   "outputs": [
    {
     "name": "stderr",
     "output_type": "stream",
     "text": [
      "100%|██████████| 14670/14670 [00:00<00:00, 486853.08it/s]\n"
     ]
    }
   ],
   "execution_count": 28
  },
  {
   "metadata": {
    "ExecuteTime": {
     "end_time": "2025-03-02T09:44:48.694404Z",
     "start_time": "2025-03-02T09:44:48.661760Z"
    }
   },
   "cell_type": "code",
   "source": "val_emb = make_cpc_emb(val_feature)",
   "id": "77501d4614eabc5b",
   "outputs": [
    {
     "name": "stderr",
     "output_type": "stream",
     "text": [
      "100%|██████████| 14670/14670 [00:00<00:00, 481191.51it/s]\n"
     ]
    }
   ],
   "execution_count": 29
  },
  {
   "metadata": {},
   "cell_type": "markdown",
   "source": "### 3.3 build a network",
   "id": "8187fbabcdbdc2b9"
  },
  {
   "metadata": {
    "ExecuteTime": {
     "end_time": "2025-03-02T09:44:49.084370Z",
     "start_time": "2025-03-02T09:44:49.082423Z"
    }
   },
   "cell_type": "code",
   "source": [
    "def make_net(cpc_all):\n",
    "    edges = []\n",
    "    for c in cpc_all:\n",
    "        edges.extend(list(combinations(c['CPC'],2))+[(i[-1],i[0]) for i in list(combinations(c['CPC'],2))])\n",
    "    edge_counter = Counter(edges)\n",
    "    return list(edge_counter.keys())"
   ],
   "id": "d90f31617ea73d2d",
   "outputs": [],
   "execution_count": 30
  },
  {
   "metadata": {
    "ExecuteTime": {
     "end_time": "2025-03-02T09:44:50.158096Z",
     "start_time": "2025-03-02T09:44:49.460777Z"
    }
   },
   "cell_type": "code",
   "source": "train_edge = make_net(train_net)",
   "id": "1bf6505978fc70da",
   "outputs": [],
   "execution_count": 31
  },
  {
   "metadata": {
    "ExecuteTime": {
     "end_time": "2025-03-02T09:44:51.234906Z",
     "start_time": "2025-03-02T09:44:50.535053Z"
    }
   },
   "cell_type": "code",
   "source": "test_edge = make_net(test_net)",
   "id": "5774f1c64bf26ee6",
   "outputs": [],
   "execution_count": 32
  },
  {
   "metadata": {
    "ExecuteTime": {
     "end_time": "2025-03-02T09:44:52.473908Z",
     "start_time": "2025-03-02T09:44:51.632693Z"
    }
   },
   "cell_type": "code",
   "source": "val_edge = make_net(val_net)",
   "id": "ea6ac1012ba550cc",
   "outputs": [],
   "execution_count": 33
  },
  {
   "metadata": {
    "ExecuteTime": {
     "end_time": "2025-03-02T09:44:52.976646Z",
     "start_time": "2025-03-02T09:44:52.894781Z"
    }
   },
   "cell_type": "code",
   "source": "train_edge_label = make_net(train_net_label)",
   "id": "7d8fff7fb393934a",
   "outputs": [],
   "execution_count": 34
  },
  {
   "metadata": {
    "ExecuteTime": {
     "end_time": "2025-03-02T09:44:53.508869Z",
     "start_time": "2025-03-02T09:44:53.409201Z"
    }
   },
   "cell_type": "code",
   "source": "test_edge_label = make_net(test_net_label)",
   "id": "71d6bff3b6e15fc4",
   "outputs": [],
   "execution_count": 35
  },
  {
   "metadata": {},
   "cell_type": "markdown",
   "source": "### 3.4 negative sampling",
   "id": "182acc804c154dd0"
  },
  {
   "metadata": {
    "ExecuteTime": {
     "end_time": "2025-03-02T09:44:53.954713Z",
     "start_time": "2025-03-02T09:44:53.952663Z"
    }
   },
   "cell_type": "code",
   "source": [
    "def make_neg_edge(edge_label):\n",
    "    edge_cpc_inter = {i:[] for i in cpc_id}\n",
    "    for cpc_edge in edge_label:\n",
    "        edge_cpc_inter[cpc_edge[0]].append(cpc_edge[1])\n",
    "        edge_cpc_inter[cpc_edge[1]].append(cpc_edge[0])\n",
    "    for i in cpc_id:\n",
    "        edge_cpc_inter[i] = list(set(edge_cpc_inter[i]))\n",
    "\n",
    "    edge_cpc_not_inter = {i:[] for i in cpc_id}\n",
    "    for i in tqdm(cpc_id):\n",
    "        edge_cpc_not_inter[i] = list(set(cpc_id.keys())-set(edge_cpc_inter[i]+[i]))\n",
    "\n",
    "    neg_ratio = 1\n",
    "    neg_edge = []\n",
    "    for cpc_edge in tqdm(edge_label):\n",
    "        for i in range(neg_ratio):\n",
    "            neg_cpc = random.choice(edge_cpc_not_inter[cpc_edge[0]])\n",
    "            neg_edge.append((cpc_edge[0],neg_cpc))\n",
    "    return neg_edge"
   ],
   "id": "51f963f4c95eb4eb",
   "outputs": [],
   "execution_count": 36
  },
  {
   "metadata": {
    "ExecuteTime": {
     "end_time": "2025-03-02T09:45:00.799148Z",
     "start_time": "2025-03-02T09:44:54.417342Z"
    }
   },
   "cell_type": "code",
   "source": "train_neg_edge = make_neg_edge(train_edge_label)",
   "id": "43aed3d8dfe2a923",
   "outputs": [
    {
     "name": "stderr",
     "output_type": "stream",
     "text": [
      "100%|██████████| 14670/14670 [00:05<00:00, 2903.03it/s]\n",
      "100%|██████████| 275254/275254 [00:01<00:00, 271978.82it/s]\n"
     ]
    }
   ],
   "execution_count": 37
  },
  {
   "metadata": {
    "ExecuteTime": {
     "end_time": "2025-03-02T09:45:01.209709Z",
     "start_time": "2025-03-02T09:45:01.207870Z"
    }
   },
   "cell_type": "code",
   "source": "len(train_neg_edge), len(train_edge_label)",
   "id": "5d33351d567246c3",
   "outputs": [
    {
     "data": {
      "text/plain": [
       "(275254, 275254)"
      ]
     },
     "execution_count": 38,
     "metadata": {},
     "output_type": "execute_result"
    }
   ],
   "execution_count": 38
  },
  {
   "metadata": {
    "ExecuteTime": {
     "end_time": "2025-03-02T09:45:08.287714Z",
     "start_time": "2025-03-02T09:45:01.619341Z"
    }
   },
   "cell_type": "code",
   "source": "test_neg_edge = make_neg_edge(test_edge_label)",
   "id": "eb213d760b3da46a",
   "outputs": [
    {
     "name": "stderr",
     "output_type": "stream",
     "text": [
      "100%|██████████| 14670/14670 [00:05<00:00, 2678.20it/s]\n",
      "100%|██████████| 252482/252482 [00:00<00:00, 295783.50it/s]\n"
     ]
    }
   ],
   "execution_count": 39
  },
  {
   "metadata": {
    "ExecuteTime": {
     "end_time": "2025-03-02T09:45:08.688101Z",
     "start_time": "2025-03-02T09:45:08.686309Z"
    }
   },
   "cell_type": "code",
   "source": "len(test_neg_edge), len(test_edge_label)",
   "id": "5070e1d7e3d68bda",
   "outputs": [
    {
     "data": {
      "text/plain": [
       "(252482, 252482)"
      ]
     },
     "execution_count": 40,
     "metadata": {},
     "output_type": "execute_result"
    }
   ],
   "execution_count": 40
  },
  {
   "metadata": {},
   "cell_type": "markdown",
   "source": "### 3.5 Calculate edge characteristics",
   "id": "cb1a044c269db34b"
  },
  {
   "metadata": {
    "ExecuteTime": {
     "end_time": "2025-03-02T09:45:09.101962Z",
     "start_time": "2025-03-02T09:45:09.099149Z"
    }
   },
   "cell_type": "code",
   "source": [
    "def cal_feature(src_node, dst_node, edge_feature):\n",
    "    sn = src_node\n",
    "    dn = dst_node\n",
    "    ass_s = set(edge_feature[sn]['assignee'])\n",
    "    ass_d = set(edge_feature[dn]['assignee'])\n",
    "    inv_s = set(edge_feature[sn]['inventor'])\n",
    "    inv_d = set(edge_feature[dn]['inventor'])\n",
    "    com_s = set(edge_feature[sn]['company'])\n",
    "    com_d = set(edge_feature[dn]['company'])\n",
    "    nei_s = set(edge_feature[sn]['all_neighbor'])\n",
    "    nei_d = set(edge_feature[dn]['all_neighbor'])\n",
    "    same_ass = len(ass_s.intersection(ass_d))\n",
    "    same_inv = len(inv_s.intersection(inv_d))\n",
    "    same_com = len(com_s.intersection(com_d))\n",
    "    same_nei = nei_s.intersection(nei_d)\n",
    "    all_nei = nei_s.union(nei_d)\n",
    "    cn = len(same_nei)\n",
    "    jc = cn/len(all_nei)\n",
    "    ss = 2*len(same_nei)/(len(nei_s)+len(nei_d))\n",
    "    st = len(same_nei)/((len(nei_s)*len(nei_d))**0.5)\n",
    "    hp = cn/min(len(nei_s),len(nei_d))\n",
    "    hd = cn/max(len(nei_s),len(nei_d))\n",
    "    lhn = cn/(len(nei_s)*len(nei_d))\n",
    "    pa = len(nei_s)*len(nei_d)\n",
    "    aa = 0\n",
    "    ra = 0\n",
    "    for n in same_nei:\n",
    "        if len(edge_feature[n]['all_neighbor'])>1:\n",
    "            aa += 1 / math.log(len(edge_feature[n]['all_neighbor']))\n",
    "            ra += 1 / len(edge_feature[n]['all_neighbor'])\n",
    "        elif len(edge_feature[n]['all_neighbor'])>0:\n",
    "            ra += 1 / len(edge_feature[n]['all_neighbor'])\n",
    "    same_group = 1 if sn.split('/')[0] == dn.split('/')[0] else 0\n",
    "    same_class = 1 if sn[:3]==dn[:3] else 0\n",
    "    same_section = 1 if sn[0]==dn[0] else 0\n",
    "    return [same_ass, same_inv, same_com, same_group, same_class, same_section, cn, jc, ss, st, hp, hd, lhn, pa, aa, ra]"
   ],
   "id": "9973f06ba7cc9208",
   "outputs": [],
   "execution_count": 41
  },
  {
   "metadata": {},
   "cell_type": "markdown",
   "source": "## 4 prepare data",
   "id": "71c2a55f25cade26"
  },
  {
   "metadata": {
    "ExecuteTime": {
     "end_time": "2025-03-02T09:45:09.545305Z",
     "start_time": "2025-03-02T09:45:09.543074Z"
    }
   },
   "cell_type": "code",
   "source": [
    "def process_dataset4train(_edges, _pos_edges, _neg_edges, _x_feature, _x_emb):\n",
    "    _edges_index = []\n",
    "    for edge in _edges:\n",
    "        _edges_index.append([cpc_id[c] for c in edge])\n",
    "\n",
    "    label_edges = _pos_edges + _neg_edges\n",
    "    label_edge_index = []\n",
    "    for edge in label_edges:\n",
    "        label_edge_index.append([cpc_id[c] for c in edge])\n",
    "\n",
    "    label_edge_feature = []\n",
    "    for edge in tqdm(label_edges):\n",
    "        label_edge_feature.append(cal_feature(edge[0], edge[1], _x_feature))\n",
    "\n",
    "    labels = [1]*len(_pos_edges) + [0]*len(_neg_edges)\n",
    "\n",
    "    _x_feature_data = []\n",
    "    for i in range(len(id_cpc)):\n",
    "        _x_feature_data.append(_x_emb[id_cpc[i]])\n",
    "\n",
    "    return {\n",
    "        \"x\": _x_feature_data,\n",
    "        \"x_feature\": [_x_emb[id_cpc[i]] for i in range(len(id_cpc))],\n",
    "        \"edge_index\": _edges_index,\n",
    "        \"label_edge\": label_edge_index,\n",
    "        \"label_edge_feature\": label_edge_feature,\n",
    "        \"label\": labels,\n",
    "    }"
   ],
   "id": "e86800ef6c4c13ac",
   "outputs": [],
   "execution_count": 42
  },
  {
   "metadata": {
    "ExecuteTime": {
     "end_time": "2025-03-02T09:45:58.257969Z",
     "start_time": "2025-03-02T09:45:09.986167Z"
    }
   },
   "cell_type": "code",
   "source": "train_dataset = process_dataset4train(train_edge, train_edge_label, train_neg_edge, train_feature, train_emb)",
   "id": "234bdba81e972c84",
   "outputs": [
    {
     "name": "stderr",
     "output_type": "stream",
     "text": [
      "100%|██████████| 550508/550508 [00:46<00:00, 11752.83it/s]\n"
     ]
    }
   ],
   "execution_count": 43
  },
  {
   "metadata": {
    "ExecuteTime": {
     "end_time": "2025-03-02T09:46:48.606546Z",
     "start_time": "2025-03-02T09:45:58.988071Z"
    }
   },
   "cell_type": "code",
   "source": "test_dataset = process_dataset4train(test_edge, test_edge_label, test_neg_edge, test_feature, test_emb)",
   "id": "80115bb23a25f660",
   "outputs": [
    {
     "name": "stderr",
     "output_type": "stream",
     "text": [
      "100%|██████████| 504964/504964 [00:48<00:00, 10385.49it/s]\n"
     ]
    }
   ],
   "execution_count": 44
  },
  {
   "metadata": {
    "ExecuteTime": {
     "end_time": "2025-03-02T09:46:49.943163Z",
     "start_time": "2025-03-02T09:46:48.609432Z"
    }
   },
   "cell_type": "code",
   "source": [
    "dataset = Dataset.from_list(\n",
    "    [\n",
    "        {\"type\": \"train\", \"data\": train_dataset},\n",
    "        {\"type\": \"test\", \"data\": test_dataset},\n",
    "    ]\n",
    ")"
   ],
   "id": "13c7c515b774aaa9",
   "outputs": [],
   "execution_count": 45
  },
  {
   "metadata": {
    "ExecuteTime": {
     "end_time": "2025-03-02T09:46:50.397995Z",
     "start_time": "2025-03-02T09:46:50.317195Z"
    }
   },
   "cell_type": "code",
   "source": "# dataset.save_to_disk('/Users/xiaoen/Documents/科研/论文/链接预测/TOD-Code/data/traindataset')",
   "id": "f0eec8e215f57cb6",
   "outputs": [
    {
     "data": {
      "text/plain": [
       "Saving the dataset (0/1 shards):   0%|          | 0/2 [00:00<?, ? examples/s]"
      ],
      "application/vnd.jupyter.widget-view+json": {
       "version_major": 2,
       "version_minor": 0,
       "model_id": "ec599d17928b4f89832a70c7d30caa20"
      }
     },
     "metadata": {},
     "output_type": "display_data"
    }
   ],
   "execution_count": 46
  }
 ],
 "metadata": {
  "kernelspec": {
   "display_name": "Python 3",
   "language": "python",
   "name": "python3"
  },
  "language_info": {
   "codemirror_mode": {
    "name": "ipython",
    "version": 2
   },
   "file_extension": ".py",
   "mimetype": "text/x-python",
   "name": "python",
   "nbconvert_exporter": "python",
   "pygments_lexer": "ipython2",
   "version": "2.7.6"
  }
 },
 "nbformat": 4,
 "nbformat_minor": 5
}
