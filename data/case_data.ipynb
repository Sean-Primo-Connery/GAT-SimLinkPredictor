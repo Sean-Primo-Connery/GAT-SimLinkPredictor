{
 "cells": [
  {
   "cell_type": "code",
   "id": "initial_id",
   "metadata": {
    "collapsed": true,
    "ExecuteTime": {
     "end_time": "2025-03-16T11:11:16.095586Z",
     "start_time": "2025-03-16T11:11:15.154189Z"
    }
   },
   "source": [
    "import numpy as np\n",
    "from datasets import Dataset, DatasetDict\n",
    "from itertools import combinations\n",
    "from tqdm import tqdm, trange\n",
    "from collections import Counter\n",
    "import math\n",
    "import pandas as pd"
   ],
   "outputs": [],
   "execution_count": 1
  },
  {
   "metadata": {},
   "cell_type": "markdown",
   "source": "## 0. load data",
   "id": "738136d0809b41de"
  },
  {
   "metadata": {
    "ExecuteTime": {
     "end_time": "2025-03-16T11:11:16.121879Z",
     "start_time": "2025-03-16T11:11:16.099199Z"
    }
   },
   "cell_type": "code",
   "source": [
    "patent_data = DatasetDict.load_from_disk('/Users/xiaoen/Documents/科研/论文/链接预测/TOD-Code/data/AD_dataset')\n",
    "patent_data.keys()"
   ],
   "id": "64703c6a022f5552",
   "outputs": [
    {
     "data": {
      "text/plain": [
       "dict_keys(['AD_10', 'AD_11', 'AD_12', 'AD_13', 'AD_14', 'AD_15', 'AD_16', 'AD_17', 'AD_18', 'AD_19', 'AD_20', 'AD_21', 'AD_22', 'AD_23'])"
      ]
     },
     "execution_count": 2,
     "metadata": {},
     "output_type": "execute_result"
    }
   ],
   "execution_count": 2
  },
  {
   "metadata": {
    "ExecuteTime": {
     "end_time": "2025-03-16T11:11:23.385254Z",
     "start_time": "2025-03-16T11:11:16.190611Z"
    }
   },
   "cell_type": "code",
   "source": [
    "dataset = Dataset.load_from_disk('/Users/xiaoen/Documents/科研/论文/链接预测/TOD-Code/data/traindataset')\n",
    "test_dataset = dataset['data'][1]"
   ],
   "id": "21b4d26f4055eec3",
   "outputs": [],
   "execution_count": 3
  },
  {
   "metadata": {
    "ExecuteTime": {
     "end_time": "2025-03-16T11:11:23.391519Z",
     "start_time": "2025-03-16T11:11:23.389516Z"
    }
   },
   "cell_type": "code",
   "source": [
    "def deal_cpc(cpc_list):\n",
    "    if pd.isna(cpc_list):\n",
    "        return []\n",
    "    else:\n",
    "        cpc_raw = cpc_list.split(' | ')\n",
    "        cpcs = []\n",
    "        for cpc in cpc_raw:\n",
    "            a = cpc[:4]\n",
    "            b = cpc[4:8].lstrip('0')\n",
    "            c = cpc[8:]\n",
    "            cpcs.append(a + b + '/' + c)\n",
    "        return cpcs"
   ],
   "id": "44ce899648a6c366",
   "outputs": [],
   "execution_count": 4
  },
  {
   "metadata": {
    "ExecuteTime": {
     "end_time": "2025-03-16T11:11:23.397828Z",
     "start_time": "2025-03-16T11:11:23.395557Z"
    }
   },
   "cell_type": "code",
   "source": [
    "def make_dataset(file_name):\n",
    "    patents = []\n",
    "    data_frame = pd.read_excel(file_name, header=1)\n",
    "    for n in trange(len(data_frame)):\n",
    "        p = {\n",
    "            'PN': data_frame.iloc[n, 4] if not pd.isna(data_frame.iloc[n, 4]) else 'NaN',  # Publication_Number\n",
    "            'TI': data_frame.iloc[n, 0] if not pd.isna(data_frame.iloc[n, 0]) else 'NaN',  # Title\n",
    "            'AB': data_frame.iloc[n, 5] if not pd.isna(data_frame.iloc[n, 5]) else 'NaN',  # Abstract\n",
    "            'CPC': deal_cpc(data_frame.iloc[n, 6]),  # CPC\n",
    "            'PCN': int(data_frame.iloc[n, 1]) if not pd.isna(data_frame.iloc[n, 1]) else 0,  # Patent Claims Number\n",
    "            'PA': data_frame.iloc[n, 7].split(' | ') if not pd.isna(data_frame.iloc[n, 7]) else [],  # Patent Assignee\n",
    "            'PI': data_frame.iloc[n, 8].split(' | ') if not pd.isna(data_frame.iloc[n, 8]) else [],  # Patent Inventor\n",
    "            'UPC': data_frame.iloc[n, 2].split(' | ') if not pd.isna(data_frame.iloc[n, 2]) else [],  # Ultimate Parent Company\n",
    "            'PAT': data_frame.iloc[n, 11] if not pd.isna(data_frame.iloc[n, 11]) else 'NaN',  # Patent Application Time\n",
    "            'PPT': data_frame.iloc[n, 3] if not pd.isna(data_frame.iloc[n, 3]) else 'NaN',  # Patent Publication Time\n",
    "            'PCing': data_frame.iloc[n, 9].split(' | ') if not pd.isna(data_frame.iloc[n, 9]) else [],  # Patent Citing\n",
    "            'PCed': data_frame.iloc[n, 10].split(' | ') if not pd.isna(data_frame.iloc[n, 10]) else [],  # Patent Cited\n",
    "        }\n",
    "        if len(p['CPC']) > 1:\n",
    "            patents.append(p)\n",
    "    return Dataset.from_list(patents)"
   ],
   "id": "eead4b0ada0bb231",
   "outputs": [],
   "execution_count": 5
  },
  {
   "metadata": {
    "ExecuteTime": {
     "end_time": "2025-03-16T11:11:26.111881Z",
     "start_time": "2025-03-16T11:11:23.400942Z"
    }
   },
   "cell_type": "code",
   "source": "case_data = make_dataset('/Users/xiaoen/Documents/科研/论文/链接预测/TOD-Code/case/ZD_23.xlsx')",
   "id": "32a52b88aa4ed927",
   "outputs": [
    {
     "name": "stderr",
     "output_type": "stream",
     "text": [
      "100%|██████████| 7395/7395 [00:00<00:00, 9264.78it/s]\n"
     ]
    }
   ],
   "execution_count": 6
  },
  {
   "metadata": {},
   "cell_type": "markdown",
   "source": "## 1. CPC2ID",
   "id": "61795d14aabef8a0"
  },
  {
   "metadata": {
    "ExecuteTime": {
     "end_time": "2025-03-16T11:11:26.117503Z",
     "start_time": "2025-03-16T11:11:26.116211Z"
    }
   },
   "cell_type": "code",
   "source": "id_data = list(patent_data.keys())[4:11]",
   "id": "ba82b618cf9665aa",
   "outputs": [],
   "execution_count": 7
  },
  {
   "metadata": {
    "ExecuteTime": {
     "end_time": "2025-03-16T11:11:26.505247Z",
     "start_time": "2025-03-16T11:11:26.120754Z"
    }
   },
   "cell_type": "code",
   "source": [
    "cpc_list = []\n",
    "for file in id_data:\n",
    "    for i in range(len(patent_data[file])):\n",
    "        l = patent_data[file][i]['CPC']\n",
    "        cpc_list.extend(l)\n",
    "cpc_set = list(set(cpc_list))"
   ],
   "id": "97bb415e201da228",
   "outputs": [],
   "execution_count": 8
  },
  {
   "metadata": {
    "ExecuteTime": {
     "end_time": "2025-03-16T11:11:26.522334Z",
     "start_time": "2025-03-16T11:11:26.509187Z"
    }
   },
   "cell_type": "code",
   "source": [
    "cpc_id = Dataset.load_from_disk('/Users/xiaoen/Documents/科研/论文/链接预测/TOD-Code/data/CPC2ID')\n",
    "cpc_id = cpc_id.to_list()\n",
    "cpc_id = {c['CPC']:c['id'] for c in cpc_id}\n",
    "id_cpc = {c[1]:c[0] for c in cpc_id.items()}"
   ],
   "id": "7c84b31d61147c3c",
   "outputs": [],
   "execution_count": 9
  },
  {
   "metadata": {},
   "cell_type": "markdown",
   "source": [
    "## 2 statistical characteristics\n",
    "### 2.0 Data set preparation"
   ],
   "id": "973a622edcd14d66"
  },
  {
   "metadata": {
    "ExecuteTime": {
     "end_time": "2025-03-16T11:11:26.529223Z",
     "start_time": "2025-03-16T11:11:26.527701Z"
    }
   },
   "cell_type": "code",
   "source": [
    "def make_cpc_list_data(data):\n",
    "    cpc_l = []\n",
    "    for f in data:\n",
    "        for z in range(len(patent_data[f])):\n",
    "            c_l = patent_data[f][z]\n",
    "            c_l['CPC'] = list(set(c_l['CPC'])-(set(c_l['CPC'])-set(cpc_set)))\n",
    "            cpc_l.append(c_l)\n",
    "    return cpc_l"
   ],
   "id": "dc719ca69672f7db",
   "outputs": [],
   "execution_count": 10
  },
  {
   "metadata": {
    "ExecuteTime": {
     "end_time": "2025-03-16T11:11:33.976155Z",
     "start_time": "2025-03-16T11:11:26.534318Z"
    }
   },
   "cell_type": "code",
   "source": [
    "val_net = make_cpc_list_data(list(patent_data.keys())[4:13])\n",
    "val_net_last = make_cpc_list_data(list(patent_data.keys())[10:13])"
   ],
   "id": "75ac2cdc6f7ee2b6",
   "outputs": [],
   "execution_count": 11
  },
  {
   "metadata": {
    "ExecuteTime": {
     "end_time": "2025-03-16T11:11:33.991525Z",
     "start_time": "2025-03-16T11:11:33.982424Z"
    }
   },
   "cell_type": "code",
   "source": [
    "cpc_embedding = {}\n",
    "for i in id_cpc:\n",
    "    cpc_embedding[id_cpc[i]] = test_dataset['x'][i][-64:]"
   ],
   "id": "4110e413bb2a3e8d",
   "outputs": [],
   "execution_count": 12
  },
  {
   "metadata": {},
   "cell_type": "markdown",
   "source": "### 2.1 CPC statistical characteristics",
   "id": "e885dad725a92da9"
  },
  {
   "metadata": {
    "ExecuteTime": {
     "end_time": "2025-03-16T11:11:34.002466Z",
     "start_time": "2025-03-16T11:11:33.999613Z"
    }
   },
   "cell_type": "code",
   "source": [
    "def stat_feature(cpc_all, cpc_last):\n",
    "    cpc_feature = {}\n",
    "    for c in tqdm(cpc_id):\n",
    "        cpc_feature[c] = {\n",
    "                'last_patent':0,\n",
    "                'all_patent':0,\n",
    "                'grow_rate':0,\n",
    "                'all_neighbor':[],\n",
    "                'last_neighbor':[],\n",
    "                'all_neighbor_num':0,\n",
    "                'last_neighbor_num':0,\n",
    "                'neighbor_grow_rate':0,\n",
    "                'technology_emb':np.zeros(64),\n",
    "                'assignee':[],\n",
    "                'inventor':[],\n",
    "                'company':[],\n",
    "            }\n",
    "\n",
    "        for cl in cpc_all:\n",
    "            if c in cl['CPC']:\n",
    "                cpc_feature[c]['all_patent'] += 1\n",
    "                neighbor = []\n",
    "                for cpc in cl['CPC']:\n",
    "                    if cpc != c:\n",
    "                        neighbor.append(cpc)\n",
    "                cpc_feature[c]['all_neighbor'].extend(list(set(neighbor)))\n",
    "                cpc_feature[c]['assignee'].extend(cl['PA'])\n",
    "                cpc_feature[c]['inventor'].extend(cl['PI'])\n",
    "                cpc_feature[c]['company'].extend(cl['UPC'])\n",
    "        for cl in cpc_last:\n",
    "            if c in cl['CPC']:\n",
    "                cpc_feature[c]['last_patent'] += 1\n",
    "                neighbor = []\n",
    "                for cpc in cl['CPC']:\n",
    "                    if cpc != c:\n",
    "                        neighbor.append(cpc)\n",
    "                cpc_feature[c]['last_neighbor'].extend(list(set(neighbor)))\n",
    "        cpc_feature[c]['grow_rate'] = cpc_feature[c]['last_patent']/cpc_feature[c]['all_patent']\n",
    "        cpc_feature[c]['all_neighbor'] = list(set(cpc_feature[c]['all_neighbor']))\n",
    "        cpc_feature[c]['last_neighbor'] = list(set(cpc_feature[c]['last_neighbor']))\n",
    "        cpc_feature[c]['all_neighbor_num'] = len(cpc_feature[c]['all_neighbor'])\n",
    "        cpc_feature[c]['last_neighbor_num'] = len(cpc_feature[c]['last_neighbor'])\n",
    "        cpc_feature[c]['neighbor_grow_rate'] = cpc_feature[c]['last_neighbor_num']/cpc_feature[c]['all_neighbor_num']\n",
    "        cpc_feature[c]['assignee'] = list(set(cpc_feature[c]['assignee']))\n",
    "        cpc_feature[c]['inventor'] = list(set(cpc_feature[c]['inventor']))\n",
    "        cpc_feature[c]['company'] = list(set(cpc_feature[c]['company']))\n",
    "        cpc_feature[c]['technology_emb'] = cpc_embedding[c]\n",
    "    return cpc_feature"
   ],
   "id": "6ccf0a674f2205da",
   "outputs": [],
   "execution_count": 13
  },
  {
   "metadata": {
    "ExecuteTime": {
     "end_time": "2025-03-16T11:12:16.144183Z",
     "start_time": "2025-03-16T11:11:34.010168Z"
    }
   },
   "cell_type": "code",
   "source": "val_feature = stat_feature(val_net, val_net_last)",
   "id": "9b896d724d6a3126",
   "outputs": [
    {
     "name": "stderr",
     "output_type": "stream",
     "text": [
      "100%|██████████| 14670/14670 [00:42<00:00, 348.19it/s]\n"
     ]
    }
   ],
   "execution_count": 14
  },
  {
   "metadata": {},
   "cell_type": "markdown",
   "source": "### 2.2 CPC feature construction",
   "id": "b876899d735172a0"
  },
  {
   "metadata": {
    "ExecuteTime": {
     "end_time": "2025-03-16T11:12:16.155777Z",
     "start_time": "2025-03-16T11:12:16.153674Z"
    }
   },
   "cell_type": "code",
   "source": [
    "def make_cpc_emb(cpc_feature):\n",
    "    cpc_emb = {}\n",
    "    for c in tqdm(cpc_id):\n",
    "        stand_last_patent = cpc_feature[c]['last_patent']\n",
    "        stand_all_patent = cpc_feature[c]['all_patent']\n",
    "        stand_grow_rate = cpc_feature[c]['grow_rate']\n",
    "        stand_all_neighbor_num = cpc_feature[c]['all_neighbor_num']\n",
    "        stand_last_neighbor_num = cpc_feature[c]['last_neighbor_num']\n",
    "        stand_neighbor_growth_rate = cpc_feature[c]['neighbor_grow_rate']\n",
    "        stat_emb = np.array([stand_last_patent, stand_all_patent, stand_grow_rate, stand_all_neighbor_num, stand_last_neighbor_num, stand_neighbor_growth_rate] * 6)\n",
    "        tech_emb = cpc_feature[c]['technology_emb']\n",
    "        cpc_emb[c]=np.concatenate([stat_emb, tech_emb])\n",
    "    return cpc_emb"
   ],
   "id": "a3d596af205851f8",
   "outputs": [],
   "execution_count": 15
  },
  {
   "metadata": {
    "ExecuteTime": {
     "end_time": "2025-03-16T11:12:16.226996Z",
     "start_time": "2025-03-16T11:12:16.165390Z"
    }
   },
   "cell_type": "code",
   "source": "val_emb = make_cpc_emb(val_feature)",
   "id": "de55327ced5aaae8",
   "outputs": [
    {
     "name": "stderr",
     "output_type": "stream",
     "text": [
      "100%|██████████| 14670/14670 [00:00<00:00, 246767.30it/s]\n"
     ]
    }
   ],
   "execution_count": 16
  },
  {
   "metadata": {},
   "cell_type": "markdown",
   "source": "### 2.3 build a network",
   "id": "e56b1e20c952592e"
  },
  {
   "metadata": {
    "ExecuteTime": {
     "end_time": "2025-03-16T11:12:16.240583Z",
     "start_time": "2025-03-16T11:12:16.238675Z"
    }
   },
   "cell_type": "code",
   "source": [
    "def make_net(cpc_all):\n",
    "    edges = []\n",
    "    for c in cpc_all:\n",
    "        edges.extend(list(combinations(c['CPC'],2))+[(i[-1],i[0]) for i in list(combinations(c['CPC'],2))])\n",
    "    edge_counter = Counter(edges)\n",
    "    return list(edge_counter.keys())"
   ],
   "id": "c392caa366611811",
   "outputs": [],
   "execution_count": 17
  },
  {
   "metadata": {
    "ExecuteTime": {
     "end_time": "2025-03-16T11:12:17.169306Z",
     "start_time": "2025-03-16T11:12:16.261663Z"
    }
   },
   "cell_type": "code",
   "source": "val_edge = make_net(val_net)",
   "id": "75ea2af4a058081c",
   "outputs": [],
   "execution_count": 18
  },
  {
   "metadata": {},
   "cell_type": "markdown",
   "source": "### 2.4 Calculate edge characteristics",
   "id": "b6b100e19554d662"
  },
  {
   "metadata": {
    "ExecuteTime": {
     "end_time": "2025-03-16T11:12:17.182020Z",
     "start_time": "2025-03-16T11:12:17.171802Z"
    }
   },
   "cell_type": "code",
   "source": [
    "def cal_feature(src_node, dst_node, edge_feature):\n",
    "    sn = src_node\n",
    "    dn = dst_node\n",
    "    ass_s = set(edge_feature[sn]['assignee'])\n",
    "    ass_d = set(edge_feature[dn]['assignee'])\n",
    "    inv_s = set(edge_feature[sn]['inventor'])\n",
    "    inv_d = set(edge_feature[dn]['inventor'])\n",
    "    com_s = set(edge_feature[sn]['company'])\n",
    "    com_d = set(edge_feature[dn]['company'])\n",
    "    nei_s = set(edge_feature[sn]['all_neighbor'])\n",
    "    nei_d = set(edge_feature[dn]['all_neighbor'])\n",
    "    same_ass = len(ass_s.intersection(ass_d))\n",
    "    same_inv = len(inv_s.intersection(inv_d))\n",
    "    same_com = len(com_s.intersection(com_d))\n",
    "    same_nei = nei_s.intersection(nei_d)\n",
    "    all_nei = nei_s.union(nei_d)\n",
    "    cn = len(same_nei)\n",
    "    jc = cn/len(all_nei)\n",
    "    ss = 2*len(same_nei)/(len(nei_s)+len(nei_d))\n",
    "    st = len(same_nei)/((len(nei_s)*len(nei_d))**0.5)\n",
    "    hp = cn/min(len(nei_s),len(nei_d))\n",
    "    hd = cn/max(len(nei_s),len(nei_d))\n",
    "    lhn = cn/(len(nei_s)*len(nei_d))\n",
    "    pa = len(nei_s)*len(nei_d)\n",
    "    aa = 0\n",
    "    ra = 0\n",
    "    for n in same_nei:\n",
    "        if len(edge_feature[n]['all_neighbor'])>1:\n",
    "            aa += 1 / math.log(len(edge_feature[n]['all_neighbor']))\n",
    "            ra += 1 / len(edge_feature[n]['all_neighbor'])\n",
    "        elif len(edge_feature[n]['all_neighbor'])>0:\n",
    "            ra += 1 / len(edge_feature[n]['all_neighbor'])\n",
    "    same_group = 1 if sn.split('/')[0] == dn.split('/')[0] else 0\n",
    "    same_class = 1 if sn[:3]==dn[:3] else 0\n",
    "    same_section = 1 if sn[0]==dn[0] else 0\n",
    "    return [same_ass, same_inv, same_com, same_group, same_class, same_section, cn, jc, ss, st, hp, hd, lhn, pa, aa, ra]"
   ],
   "id": "24a2eb93596e683d",
   "outputs": [],
   "execution_count": 19
  },
  {
   "metadata": {},
   "cell_type": "markdown",
   "source": [
    "## 3 prepare data\n",
    "### Node Characteristics X"
   ],
   "id": "a0ad62231fa4e9a1"
  },
  {
   "metadata": {
    "ExecuteTime": {
     "end_time": "2025-03-16T11:12:17.196362Z",
     "start_time": "2025-03-16T11:12:17.194031Z"
    }
   },
   "cell_type": "code",
   "source": [
    "x = []\n",
    "for i in range(len(id_cpc)):\n",
    "    x.append(val_emb[id_cpc[i]])"
   ],
   "id": "2a4dda9ac5dda621",
   "outputs": [],
   "execution_count": 20
  },
  {
   "metadata": {},
   "cell_type": "markdown",
   "source": "### Network structure edge_index",
   "id": "cf6e42919bea75ff"
  },
  {
   "metadata": {
    "ExecuteTime": {
     "end_time": "2025-03-16T11:12:17.774346Z",
     "start_time": "2025-03-16T11:12:17.207792Z"
    }
   },
   "cell_type": "code",
   "source": [
    "edge_index = []\n",
    "for edge in val_edge:\n",
    "    edge_index.append([cpc_id[c] for c in edge])"
   ],
   "id": "cb250ad844efec44",
   "outputs": [],
   "execution_count": 21
  },
  {
   "metadata": {},
   "cell_type": "markdown",
   "source": "### Prepare candidate links",
   "id": "6579047250cf61cc"
  },
  {
   "metadata": {
    "ExecuteTime": {
     "end_time": "2025-03-16T11:12:17.788748Z",
     "start_time": "2025-03-16T11:12:17.786378Z"
    }
   },
   "cell_type": "code",
   "source": [
    "target_cpc = 'B60W60'\n",
    "target_cpcs = [c for c in cpc_id.keys() if c.split(\"/\")[0]==target_cpc]"
   ],
   "id": "1281124e2d5f5781",
   "outputs": [],
   "execution_count": 22
  },
  {
   "metadata": {
    "ExecuteTime": {
     "end_time": "2025-03-16T11:12:17.905911Z",
     "start_time": "2025-03-16T11:12:17.799899Z"
    }
   },
   "cell_type": "code",
   "source": [
    "last_network_index = test_dataset[\"label_edge\"]\n",
    "last_network_label = test_dataset[\"label\"]\n",
    "\n",
    "last_network_cpc = []\n",
    "for i in range(len(last_network_index)):\n",
    "    if last_network_label[i]:\n",
    "        last_network_cpc.append([id_cpc[last_network_index[i][0]], id_cpc[last_network_index[i][1]]])\n",
    "\n",
    "exist_edge = [(t[0].split(\"/\")[0], t[1].split(\"/\")[0]) for t in last_network_cpc]\n",
    "exist_edge = Counter(exist_edge)\n",
    "exist_edge = sorted(exist_edge.items(), key=lambda o: o[1], reverse=True)"
   ],
   "id": "2f45a38a7344dc51",
   "outputs": [],
   "execution_count": 23
  },
  {
   "metadata": {
    "ExecuteTime": {
     "end_time": "2025-03-16T11:12:17.924027Z",
     "start_time": "2025-03-16T11:12:17.918333Z"
    }
   },
   "cell_type": "code",
   "source": [
    "cand_cpc = []\n",
    "for e in exist_edge:\n",
    "    if e[0][0] == target_cpc:\n",
    "        cand_cpc.append((e[0][1],e[1]))\n",
    "cand_cpc[:10]"
   ],
   "id": "c5754c82d9f5f89e",
   "outputs": [
    {
     "data": {
      "text/plain": [
       "[('B60W30', 516),\n",
       " ('G05D1', 489),\n",
       " ('B60W60', 478),\n",
       " ('B60W2050', 473),\n",
       " ('G08G1', 461),\n",
       " ('B60W2554', 375),\n",
       " ('G01C21', 316),\n",
       " ('B60W50', 303),\n",
       " ('B60W40', 262),\n",
       " ('B60W2540', 224)]"
      ]
     },
     "execution_count": 24,
     "metadata": {},
     "output_type": "execute_result"
    }
   ],
   "execution_count": 24
  },
  {
   "metadata": {
    "ExecuteTime": {
     "end_time": "2025-03-16T11:12:17.947696Z",
     "start_time": "2025-03-16T11:12:17.936351Z"
    }
   },
   "cell_type": "code",
   "source": [
    "cand_cpcs = []\n",
    "for cand in cand_cpc[:10]:\n",
    "    cand_cpcs.extend([c for c in cpc_id.keys() if c.split(\"/\")[0]==cand[0]])\n",
    "cand_cpcs = list(set(cand_cpcs))"
   ],
   "id": "e7a45cf492344024",
   "outputs": [],
   "execution_count": 25
  },
  {
   "metadata": {
    "ExecuteTime": {
     "end_time": "2025-03-16T11:12:18.110962Z",
     "start_time": "2025-03-16T11:12:17.959653Z"
    }
   },
   "cell_type": "code",
   "source": [
    "case_edges_ = []\n",
    "for p in case_data:\n",
    "    case_edges_.extend(list(combinations(p['CPC'],2))+[(i[-1],i[0]) for i in list(combinations(p['CPC'],2))])\n",
    "case_edge_counter = Counter(case_edges_)\n",
    "new_edge = list(case_edge_counter.keys())"
   ],
   "id": "7710ead56c967dc3",
   "outputs": [],
   "execution_count": 26
  },
  {
   "metadata": {
    "ExecuteTime": {
     "end_time": "2025-03-16T11:12:57.851780Z",
     "start_time": "2025-03-16T11:12:18.158597Z"
    }
   },
   "cell_type": "code",
   "source": [
    "cand_edges = []\n",
    "cand_label = []\n",
    "for c in cand_cpcs:\n",
    "    for t in target_cpcs:\n",
    "        if (t,c) not in cand_edges and (c,t) not in cand_edges and c!=t:\n",
    "            cand_edges.append((t,c))\n",
    "            if (t,c) in new_edge or (c,t) in new_edge:\n",
    "                cand_label.append(1)\n",
    "            else:\n",
    "                cand_label.append(0)"
   ],
   "id": "54cc0752935534d4",
   "outputs": [],
   "execution_count": 27
  },
  {
   "metadata": {
    "ExecuteTime": {
     "end_time": "2025-03-16T11:12:57.906629Z",
     "start_time": "2025-03-16T11:12:57.904589Z"
    }
   },
   "cell_type": "code",
   "source": "len(target_cpcs), len(cand_cpcs), len(cand_edges), sum(cand_label)",
   "id": "a32cfdf4b306283",
   "outputs": [
    {
     "data": {
      "text/plain": [
       "(35, 598, 20300, 1758)"
      ]
     },
     "execution_count": 28,
     "metadata": {},
     "output_type": "execute_result"
    }
   ],
   "execution_count": 28
  },
  {
   "metadata": {},
   "cell_type": "markdown",
   "source": "### edge_feature，edge_label",
   "id": "214675f534801176"
  },
  {
   "metadata": {
    "ExecuteTime": {
     "end_time": "2025-03-16T11:13:00.574317Z",
     "start_time": "2025-03-16T11:12:57.958148Z"
    }
   },
   "cell_type": "code",
   "source": [
    "label_edge_feature = []\n",
    "for edge in tqdm(cand_edges):\n",
    "    label_edge_feature.append(cal_feature(edge[0], edge[1], val_feature))"
   ],
   "id": "5815d293de28a2c6",
   "outputs": [
    {
     "name": "stderr",
     "output_type": "stream",
     "text": [
      "100%|██████████| 20300/20300 [00:02<00:00, 7767.63it/s]\n"
     ]
    }
   ],
   "execution_count": 29
  },
  {
   "metadata": {
    "ExecuteTime": {
     "end_time": "2025-03-16T11:13:00.634206Z",
     "start_time": "2025-03-16T11:13:00.632773Z"
    }
   },
   "cell_type": "code",
   "source": "labels = cand_label",
   "id": "b1e616b371ca7e55",
   "outputs": [],
   "execution_count": 30
  },
  {
   "metadata": {
    "ExecuteTime": {
     "end_time": "2025-03-16T11:13:00.698479Z",
     "start_time": "2025-03-16T11:13:00.693923Z"
    }
   },
   "cell_type": "code",
   "source": [
    "label_edge_index = []\n",
    "for edge in cand_edges:\n",
    "    label_edge_index.append([cpc_id[edge[0]], cpc_id[edge[1]]])"
   ],
   "id": "35d0e182cd114b5f",
   "outputs": [],
   "execution_count": 31
  },
  {
   "metadata": {
    "ExecuteTime": {
     "end_time": "2025-03-16T11:13:00.902601Z",
     "start_time": "2025-03-16T11:13:00.757827Z"
    }
   },
   "cell_type": "code",
   "source": "np.array(x).shape, np.array(edge_index).shape, np.array(label_edge_index).shape, np.array(label_edge_feature).shape, np.array(labels).shape",
   "id": "f49d95fc05492f1d",
   "outputs": [
    {
     "data": {
      "text/plain": [
       "((14670, 100), (1148886, 2), (20300, 2), (20300, 16), (20300,))"
      ]
     },
     "execution_count": 32,
     "metadata": {},
     "output_type": "execute_result"
    }
   ],
   "execution_count": 32
  },
  {
   "metadata": {
    "ExecuteTime": {
     "end_time": "2025-03-16T11:13:00.966238Z",
     "start_time": "2025-03-16T11:13:00.964496Z"
    }
   },
   "cell_type": "code",
   "source": [
    "val_dataset = {\n",
    "    'x': x,\n",
    "    'x_feature': val_feature,\n",
    "    'edge_index': edge_index,\n",
    "    'label_edge_index': label_edge_index,\n",
    "    'label_edge_feature': label_edge_feature,\n",
    "    'label': labels\n",
    "}"
   ],
   "id": "6174d2402cc26e39",
   "outputs": [],
   "execution_count": 33
  },
  {
   "metadata": {
    "ExecuteTime": {
     "end_time": "2025-03-16T11:14:15.748577Z",
     "start_time": "2025-03-16T11:13:01.024607Z"
    }
   },
   "cell_type": "code",
   "source": [
    "dataset = Dataset.from_list(\n",
    "    [\n",
    "        {\"type\": \"case\", \"data\": val_dataset},\n",
    "    ]\n",
    ")"
   ],
   "id": "d631d41689185131",
   "outputs": [],
   "execution_count": 34
  },
  {
   "metadata": {
    "ExecuteTime": {
     "end_time": "2025-03-16T11:14:31.226145Z",
     "start_time": "2025-03-16T11:14:15.861057Z"
    }
   },
   "cell_type": "code",
   "source": "# dataset.save_to_disk('case_dataset')",
   "id": "c173beb6cb03aa60",
   "outputs": [
    {
     "data": {
      "text/plain": [
       "Saving the dataset (0/1 shards):   0%|          | 0/1 [00:00<?, ? examples/s]"
      ],
      "application/vnd.jupyter.widget-view+json": {
       "version_major": 2,
       "version_minor": 0,
       "model_id": "db1c02beec1c4e00a06bf76850496477"
      }
     },
     "metadata": {},
     "output_type": "display_data"
    }
   ],
   "execution_count": 35
  }
 ],
 "metadata": {
  "kernelspec": {
   "display_name": "Python 3",
   "language": "python",
   "name": "python3"
  },
  "language_info": {
   "codemirror_mode": {
    "name": "ipython",
    "version": 2
   },
   "file_extension": ".py",
   "mimetype": "text/x-python",
   "name": "python",
   "nbconvert_exporter": "python",
   "pygments_lexer": "ipython2",
   "version": "2.7.6"
  }
 },
 "nbformat": 4,
 "nbformat_minor": 5
}
